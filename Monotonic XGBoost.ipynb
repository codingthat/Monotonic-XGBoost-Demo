{
 "cells": [
  {
   "cell_type": "code",
   "execution_count": 1,
   "metadata": {},
   "outputs": [
    {
     "data": {
      "application/javascript": [
       "\n",
       "            setTimeout(function() {\n",
       "                var nbb_cell_id = 1;\n",
       "                var nbb_formatted_code = \"%load_ext nb_black\";\n",
       "                var nbb_cells = Jupyter.notebook.get_cells();\n",
       "                for (var i = 0; i < nbb_cells.length; ++i) {\n",
       "                    if (nbb_cells[i].input_prompt_number == nbb_cell_id) {\n",
       "                        nbb_cells[i].set_text(nbb_formatted_code);\n",
       "                        break;\n",
       "                    }\n",
       "                }\n",
       "            }, 500);\n",
       "            "
      ],
      "text/plain": [
       "<IPython.core.display.Javascript object>"
      ]
     },
     "metadata": {},
     "output_type": "display_data"
    }
   ],
   "source": [
    "%load_ext nb_black"
   ]
  },
  {
   "cell_type": "code",
   "execution_count": 2,
   "metadata": {},
   "outputs": [
    {
     "data": {
      "application/javascript": [
       "\n",
       "            setTimeout(function() {\n",
       "                var nbb_cell_id = 2;\n",
       "                var nbb_formatted_code = \"import random\\nimport numpy\";\n",
       "                var nbb_cells = Jupyter.notebook.get_cells();\n",
       "                for (var i = 0; i < nbb_cells.length; ++i) {\n",
       "                    if (nbb_cells[i].input_prompt_number == nbb_cell_id) {\n",
       "                        nbb_cells[i].set_text(nbb_formatted_code);\n",
       "                        break;\n",
       "                    }\n",
       "                }\n",
       "            }, 500);\n",
       "            "
      ],
      "text/plain": [
       "<IPython.core.display.Javascript object>"
      ]
     },
     "metadata": {},
     "output_type": "display_data"
    }
   ],
   "source": [
    "import random\n",
    "import numpy"
   ]
  },
  {
   "cell_type": "code",
   "execution_count": 3,
   "metadata": {},
   "outputs": [
    {
     "data": {
      "application/javascript": [
       "\n",
       "            setTimeout(function() {\n",
       "                var nbb_cell_id = 3;\n",
       "                var nbb_formatted_code = \"def flip():\\n    return 1 if random.random() < 0.5 else 0\\n\\n\\ndef generate():\\n    return random.triangular(0, 1, 1)\\n\\n\\ndef prepare_for_XGBoost(X, y):\\n    return xgb.DMatrix(X, label=y)\\n\\n\\nfrom sklearn.metrics import confusion_matrix\\n\\n\\ndef predict_with_XGBoost(model, dX, y):\\n    temp = model.predict(dX)\\n    return [round(x) for x in temp]\\n\\n\\ndef predict_with_XGBoost_and_return_Confusion_Matrix(model, dX, y):\\n    temp = model.predict(dX)\\n    temp = [round(x) for x in temp]\\n    return confusion_matrix(y, temp)\";\n",
       "                var nbb_cells = Jupyter.notebook.get_cells();\n",
       "                for (var i = 0; i < nbb_cells.length; ++i) {\n",
       "                    if (nbb_cells[i].input_prompt_number == nbb_cell_id) {\n",
       "                        nbb_cells[i].set_text(nbb_formatted_code);\n",
       "                        break;\n",
       "                    }\n",
       "                }\n",
       "            }, 500);\n",
       "            "
      ],
      "text/plain": [
       "<IPython.core.display.Javascript object>"
      ]
     },
     "metadata": {},
     "output_type": "display_data"
    }
   ],
   "source": [
    "def flip():\n",
    "    return 1 if random.random() < 0.5 else 0\n",
    "\n",
    "\n",
    "def generate():\n",
    "    return random.triangular(0, 1, 1)\n",
    "\n",
    "\n",
    "def prepare_for_XGBoost(X, y):\n",
    "    return xgb.DMatrix(X, label=y)\n",
    "\n",
    "\n",
    "from sklearn.metrics import confusion_matrix\n",
    "\n",
    "\n",
    "def predict_with_XGBoost(model, dX, y):\n",
    "    temp = model.predict(dX)\n",
    "    return [round(x) for x in temp]\n",
    "\n",
    "\n",
    "def predict_with_XGBoost_and_return_Confusion_Matrix(model, dX, y):\n",
    "    temp = model.predict(dX)\n",
    "    temp = [round(x) for x in temp]\n",
    "    return confusion_matrix(y, temp)"
   ]
  },
  {
   "cell_type": "code",
   "execution_count": 4,
   "metadata": {},
   "outputs": [
    {
     "data": {
      "text/plain": [
       "(array([ 18.,  83., 128., 167., 239., 304., 331., 383., 389., 458.,   0.]),\n",
       " array([0. , 0.1, 0.2, 0.3, 0.4, 0.5, 0.6, 0.7, 0.8, 0.9, 1. , 1.1]),\n",
       " <a list of 11 Patch objects>)"
      ]
     },
     "execution_count": 4,
     "metadata": {},
     "output_type": "execute_result"
    },
    {
     "data": {
      "image/png": "[encoded data removed]",
      "text/plain": [
       "<Figure size 432x288 with 1 Axes>"
      ]
     },
     "metadata": {
      "needs_background": "light"
     },
     "output_type": "display_data"
    },
    {
     "data": {
      "application/javascript": [
       "\n",
       "            setTimeout(function() {\n",
       "                var nbb_cell_id = 4;\n",
       "                var nbb_formatted_code = \"import matplotlib.pyplot as plt\\n\\n%matplotlib inline\\nbins = [0.1 * i for i in range(12)]\\nplt.hist([random.triangular(0, 1, 1) for i in range(2500)], bins)\";\n",
       "                var nbb_cells = Jupyter.notebook.get_cells();\n",
       "                for (var i = 0; i < nbb_cells.length; ++i) {\n",
       "                    if (nbb_cells[i].input_prompt_number == nbb_cell_id) {\n",
       "                        nbb_cells[i].set_text(nbb_formatted_code);\n",
       "                        break;\n",
       "                    }\n",
       "                }\n",
       "            }, 500);\n",
       "            "
      ],
      "text/plain": [
       "<IPython.core.display.Javascript object>"
      ]
     },
     "metadata": {},
     "output_type": "display_data"
    }
   ],
   "source": [
    "import matplotlib.pyplot as plt\n",
    "\n",
    "%matplotlib inline\n",
    "bins = [0.1 * i for i in range(12)]\n",
    "plt.hist([random.triangular(0, 1, 1) for i in range(2500)], bins)"
   ]
  },
  {
   "cell_type": "code",
   "execution_count": 5,
   "metadata": {},
   "outputs": [
    {
     "data": {
      "application/javascript": [
       "\n",
       "            setTimeout(function() {\n",
       "                var nbb_cell_id = 5;\n",
       "                var nbb_formatted_code = \"m = 1000000\\ngood_features = 5\\nbad_features = 5\\nn = good_features + bad_features\\ngood = 0\\nbad = 1\\nX = numpy.zeros((m, n))\\ny = numpy.zeros((m))\\nfor i in range(m):\\n    vec = numpy.zeros((n))\\n    y[i] = flip()\\n    if y[i] == good:\\n        for j in range(good_features):\\n            vec[j] = generate()\\n        for j in range(bad_features):\\n            vec[j + good_features] = 1 - generate()\\n    else:\\n        for j in range(good_features):\\n            vec[j] = 1 - generate()\\n        for j in range(bad_features):\\n            vec[j + good_features] = generate()\\n    X[i, :] = vec\";\n",
       "                var nbb_cells = Jupyter.notebook.get_cells();\n",
       "                for (var i = 0; i < nbb_cells.length; ++i) {\n",
       "                    if (nbb_cells[i].input_prompt_number == nbb_cell_id) {\n",
       "                        nbb_cells[i].set_text(nbb_formatted_code);\n",
       "                        break;\n",
       "                    }\n",
       "                }\n",
       "            }, 500);\n",
       "            "
      ],
      "text/plain": [
       "<IPython.core.display.Javascript object>"
      ]
     },
     "metadata": {},
     "output_type": "display_data"
    }
   ],
   "source": [
    "m = 1000000\n",
    "good_features = 5\n",
    "bad_features = 5\n",
    "n = good_features + bad_features\n",
    "good = 0\n",
    "bad = 1\n",
    "X = numpy.zeros((m, n))\n",
    "y = numpy.zeros((m))\n",
    "for i in range(m):\n",
    "    vec = numpy.zeros((n))\n",
    "    y[i] = flip()\n",
    "    if y[i] == good:\n",
    "        for j in range(good_features):\n",
    "            vec[j] = generate()\n",
    "        for j in range(bad_features):\n",
    "            vec[j + good_features] = 1 - generate()\n",
    "    else:\n",
    "        for j in range(good_features):\n",
    "            vec[j] = 1 - generate()\n",
    "        for j in range(bad_features):\n",
    "            vec[j + good_features] = generate()\n",
    "    X[i, :] = vec"
   ]
  },
  {
   "cell_type": "code",
   "execution_count": 6,
   "metadata": {},
   "outputs": [
    {
     "name": "stdout",
     "output_type": "stream",
     "text": [
      "[[0.80532567 0.92490839 0.76229776 0.21723793 0.89442271 0.2533954\n",
      "  0.17035758 0.60755975 0.40627205 0.34162412]\n",
      " [0.6078555  0.1749582  0.66225547 0.03092389 0.47605521 0.71063285\n",
      "  0.88470052 0.84199926 0.12980379 0.73148675]\n",
      " [0.75421467 0.35859618 0.97344397 0.62061552 0.61107118 0.46083668\n",
      "  0.52475708 0.17564278 0.0588624  0.23044161]\n",
      " [0.31115242 0.13372737 0.23298339 0.09242849 0.15353954 0.24079295\n",
      "  0.53004054 0.49740195 0.79480049 0.16365336]\n",
      " [0.75995086 0.3056331  0.28099494 0.19333433 0.38890581 0.92336874\n",
      "  0.8352815  0.67782679 0.9229689  0.67621793]]\n",
      "[0. 1. 0. 1. 1.]\n"
     ]
    },
    {
     "data": {
      "application/javascript": [
       "\n",
       "            setTimeout(function() {\n",
       "                var nbb_cell_id = 6;\n",
       "                var nbb_formatted_code = \"print(X[:5])\\nprint(y[:5])\";\n",
       "                var nbb_cells = Jupyter.notebook.get_cells();\n",
       "                for (var i = 0; i < nbb_cells.length; ++i) {\n",
       "                    if (nbb_cells[i].input_prompt_number == nbb_cell_id) {\n",
       "                        nbb_cells[i].set_text(nbb_formatted_code);\n",
       "                        break;\n",
       "                    }\n",
       "                }\n",
       "            }, 500);\n",
       "            "
      ],
      "text/plain": [
       "<IPython.core.display.Javascript object>"
      ]
     },
     "metadata": {},
     "output_type": "display_data"
    }
   ],
   "source": [
    "print(X[:5])\n",
    "print(y[:5])"
   ]
  },
  {
   "cell_type": "code",
   "execution_count": 7,
   "metadata": {},
   "outputs": [
    {
     "data": {
      "application/javascript": [
       "\n",
       "            setTimeout(function() {\n",
       "                var nbb_cell_id = 7;\n",
       "                var nbb_formatted_code = \"from sklearn.model_selection import train_test_split\\n\\nX_train, X_test, y_train, y_test = train_test_split(\\n    X, y, test_size=0.2, random_state=42\\n)\";\n",
       "                var nbb_cells = Jupyter.notebook.get_cells();\n",
       "                for (var i = 0; i < nbb_cells.length; ++i) {\n",
       "                    if (nbb_cells[i].input_prompt_number == nbb_cell_id) {\n",
       "                        nbb_cells[i].set_text(nbb_formatted_code);\n",
       "                        break;\n",
       "                    }\n",
       "                }\n",
       "            }, 500);\n",
       "            "
      ],
      "text/plain": [
       "<IPython.core.display.Javascript object>"
      ]
     },
     "metadata": {},
     "output_type": "display_data"
    }
   ],
   "source": [
    "from sklearn.model_selection import train_test_split\n",
    "\n",
    "X_train, X_test, y_train, y_test = train_test_split(\n",
    "    X, y, test_size=0.2, random_state=42\n",
    ")"
   ]
  },
  {
   "cell_type": "code",
   "execution_count": 8,
   "metadata": {},
   "outputs": [
    {
     "data": {
      "application/javascript": [
       "\n",
       "            setTimeout(function() {\n",
       "                var nbb_cell_id = 8;\n",
       "                var nbb_formatted_code = \"import xgboost as xgb\\n\\ndtrain = prepare_for_XGBoost(X_train, y_train)\\ndtest = prepare_for_XGBoost(X_test, y_test)\\ndall = prepare_for_XGBoost(X, y)\";\n",
       "                var nbb_cells = Jupyter.notebook.get_cells();\n",
       "                for (var i = 0; i < nbb_cells.length; ++i) {\n",
       "                    if (nbb_cells[i].input_prompt_number == nbb_cell_id) {\n",
       "                        nbb_cells[i].set_text(nbb_formatted_code);\n",
       "                        break;\n",
       "                    }\n",
       "                }\n",
       "            }, 500);\n",
       "            "
      ],
      "text/plain": [
       "<IPython.core.display.Javascript object>"
      ]
     },
     "metadata": {},
     "output_type": "display_data"
    }
   ],
   "source": [
    "import xgboost as xgb\n",
    "\n",
    "dtrain = prepare_for_XGBoost(X_train, y_train)\n",
    "dtest = prepare_for_XGBoost(X_test, y_test)\n",
    "dall = prepare_for_XGBoost(X, y)"
   ]
  },
  {
   "cell_type": "code",
   "execution_count": 9,
   "metadata": {},
   "outputs": [
    {
     "name": "stdout",
     "output_type": "stream",
     "text": [
      "[[390647   8934]\n",
      " [  8886 391533]]\n",
      "\n",
      "[[97579  2451]\n",
      " [ 2362 97608]]\n"
     ]
    },
    {
     "data": {
      "application/javascript": [
       "\n",
       "            setTimeout(function() {\n",
       "                var nbb_cell_id = 9;\n",
       "                var nbb_formatted_code = \"from sklearn.metrics import confusion_matrix\\n\\nparams = {\\n    \\\"n_jobs\\\": 1,\\n}\\nmodel_no_constraints = xgb.train(params=params, dtrain=dtrain)\\nprint(\\n    predict_with_XGBoost_and_return_Confusion_Matrix(\\n        model_no_constraints, dtrain, y_train\\n    )\\n)\\nprint()\\nprint(\\n    predict_with_XGBoost_and_return_Confusion_Matrix(\\n        model_no_constraints, dtest, y_test\\n    )\\n)\\nmodel_no_constraints = xgb.train(params=params, dtrain=dall)\";\n",
       "                var nbb_cells = Jupyter.notebook.get_cells();\n",
       "                for (var i = 0; i < nbb_cells.length; ++i) {\n",
       "                    if (nbb_cells[i].input_prompt_number == nbb_cell_id) {\n",
       "                        nbb_cells[i].set_text(nbb_formatted_code);\n",
       "                        break;\n",
       "                    }\n",
       "                }\n",
       "            }, 500);\n",
       "            "
      ],
      "text/plain": [
       "<IPython.core.display.Javascript object>"
      ]
     },
     "metadata": {},
     "output_type": "display_data"
    }
   ],
   "source": [
    "from sklearn.metrics import confusion_matrix\n",
    "\n",
    "params = {\n",
    "    \"n_jobs\": 1,\n",
    "}\n",
    "model_no_constraints = xgb.train(params=params, dtrain=dtrain)\n",
    "print(\n",
    "    predict_with_XGBoost_and_return_Confusion_Matrix(\n",
    "        model_no_constraints, dtrain, y_train\n",
    "    )\n",
    ")\n",
    "print()\n",
    "print(\n",
    "    predict_with_XGBoost_and_return_Confusion_Matrix(\n",
    "        model_no_constraints, dtest, y_test\n",
    "    )\n",
    ")\n",
    "model_no_constraints = xgb.train(params=params, dtrain=dall)"
   ]
  },
  {
   "cell_type": "code",
   "execution_count": 10,
   "metadata": {},
   "outputs": [
    {
     "name": "stdout",
     "output_type": "stream",
     "text": [
      "[[390695   8886]\n",
      " [  9305 391114]]\n",
      "\n",
      "[[97628  2402]\n",
      " [ 2420 97550]]\n"
     ]
    },
    {
     "data": {
      "application/javascript": [
       "\n",
       "            setTimeout(function() {\n",
       "                var nbb_cell_id = 10;\n",
       "                var nbb_formatted_code = \"params_constrained = params.copy()\\nmonotone_constraints = (\\n    \\\"(\\\"\\n    + \\\",\\\".join([str(0) for m in range(good_features)])\\n    + \\\",\\\"\\n    + \\\",\\\".join([str(1) for m in range(bad_features)])\\n    + \\\")\\\"\\n)\\nparams_constrained[\\\"monotone_constraints\\\"] = monotone_constraints\\nmodel_monotonic = xgb.train(params=params_constrained, dtrain=dtrain)\\nprint(\\n    predict_with_XGBoost_and_return_Confusion_Matrix(model_monotonic, dtrain, y_train)\\n)\\nprint()\\nprint(predict_with_XGBoost_and_return_Confusion_Matrix(model_monotonic, dtest, y_test))\\nmodel_monotonic = xgb.train(params=params_constrained, dtrain=dall)\";\n",
       "                var nbb_cells = Jupyter.notebook.get_cells();\n",
       "                for (var i = 0; i < nbb_cells.length; ++i) {\n",
       "                    if (nbb_cells[i].input_prompt_number == nbb_cell_id) {\n",
       "                        nbb_cells[i].set_text(nbb_formatted_code);\n",
       "                        break;\n",
       "                    }\n",
       "                }\n",
       "            }, 500);\n",
       "            "
      ],
      "text/plain": [
       "<IPython.core.display.Javascript object>"
      ]
     },
     "metadata": {},
     "output_type": "display_data"
    }
   ],
   "source": [
    "params_constrained = params.copy()\n",
    "monotone_constraints = (\n",
    "    \"(\"\n",
    "    + \",\".join([str(0) for m in range(good_features)])\n",
    "    + \",\"\n",
    "    + \",\".join([str(1) for m in range(bad_features)])\n",
    "    + \")\"\n",
    ")\n",
    "params_constrained[\"monotone_constraints\"] = monotone_constraints\n",
    "model_monotonic = xgb.train(params=params_constrained, dtrain=dtrain)\n",
    "print(\n",
    "    predict_with_XGBoost_and_return_Confusion_Matrix(model_monotonic, dtrain, y_train)\n",
    ")\n",
    "print()\n",
    "print(predict_with_XGBoost_and_return_Confusion_Matrix(model_monotonic, dtest, y_test))\n",
    "model_monotonic = xgb.train(params=params_constrained, dtrain=dall)"
   ]
  },
  {
   "cell_type": "code",
   "execution_count": 11,
   "metadata": {},
   "outputs": [
    {
     "data": {
      "text/plain": [
       "489391.0"
      ]
     },
     "execution_count": 11,
     "metadata": {},
     "output_type": "execute_result"
    },
    {
     "data": {
      "application/javascript": [
       "\n",
       "            setTimeout(function() {\n",
       "                var nbb_cell_id = 11;\n",
       "                var nbb_formatted_code = \"X_bad = X[y == bad]\\ny_bad = len(X_bad) * [1]\\ndX_bad = prepare_for_XGBoost(X_bad, y_bad)\\nsum(predict_with_XGBoost(model_no_constraints, dX_bad, y_bad))\";\n",
       "                var nbb_cells = Jupyter.notebook.get_cells();\n",
       "                for (var i = 0; i < nbb_cells.length; ++i) {\n",
       "                    if (nbb_cells[i].input_prompt_number == nbb_cell_id) {\n",
       "                        nbb_cells[i].set_text(nbb_formatted_code);\n",
       "                        break;\n",
       "                    }\n",
       "                }\n",
       "            }, 500);\n",
       "            "
      ],
      "text/plain": [
       "<IPython.core.display.Javascript object>"
      ]
     },
     "metadata": {},
     "output_type": "display_data"
    }
   ],
   "source": [
    "X_bad = X[y == bad]\n",
    "y_bad = len(X_bad) * [1]\n",
    "dX_bad = prepare_for_XGBoost(X_bad, y_bad)\n",
    "sum(predict_with_XGBoost(model_no_constraints, dX_bad, y_bad))"
   ]
  },
  {
   "cell_type": "code",
   "execution_count": 12,
   "metadata": {},
   "outputs": [
    {
     "data": {
      "application/javascript": [
       "\n",
       "            setTimeout(function() {\n",
       "                var nbb_cell_id = 12;\n",
       "                var nbb_formatted_code = \"X_adversarial = X[y == bad]\\ny_adversarial = numpy.ones((len(X_adversarial)))\\nfor i in range(len(X_adversarial)):\\n    vec = X_adversarial[i, :]\\n    for j in range(good_features):\\n        vec[j] = 1\\n    X_adversarial[i, :] = vec\";\n",
       "                var nbb_cells = Jupyter.notebook.get_cells();\n",
       "                for (var i = 0; i < nbb_cells.length; ++i) {\n",
       "                    if (nbb_cells[i].input_prompt_number == nbb_cell_id) {\n",
       "                        nbb_cells[i].set_text(nbb_formatted_code);\n",
       "                        break;\n",
       "                    }\n",
       "                }\n",
       "            }, 500);\n",
       "            "
      ],
      "text/plain": [
       "<IPython.core.display.Javascript object>"
      ]
     },
     "metadata": {},
     "output_type": "display_data"
    }
   ],
   "source": [
    "X_adversarial = X[y == bad]\n",
    "y_adversarial = numpy.ones((len(X_adversarial)))\n",
    "for i in range(len(X_adversarial)):\n",
    "    vec = X_adversarial[i, :]\n",
    "    for j in range(good_features):\n",
    "        vec[j] = 1\n",
    "    X_adversarial[i, :] = vec"
   ]
  },
  {
   "cell_type": "code",
   "execution_count": 13,
   "metadata": {},
   "outputs": [
    {
     "data": {
      "application/javascript": [
       "\n",
       "            setTimeout(function() {\n",
       "                var nbb_cell_id = 13;\n",
       "                var nbb_formatted_code = \"data = X_adversarial\\nlabel = y_adversarial\\ndadv = xgb.DMatrix(data, label=label)\";\n",
       "                var nbb_cells = Jupyter.notebook.get_cells();\n",
       "                for (var i = 0; i < nbb_cells.length; ++i) {\n",
       "                    if (nbb_cells[i].input_prompt_number == nbb_cell_id) {\n",
       "                        nbb_cells[i].set_text(nbb_formatted_code);\n",
       "                        break;\n",
       "                    }\n",
       "                }\n",
       "            }, 500);\n",
       "            "
      ],
      "text/plain": [
       "<IPython.core.display.Javascript object>"
      ]
     },
     "metadata": {},
     "output_type": "display_data"
    }
   ],
   "source": [
    "data = X_adversarial\n",
    "label = y_adversarial\n",
    "dadv = xgb.DMatrix(data, label=label)"
   ]
  },
  {
   "cell_type": "code",
   "execution_count": 14,
   "metadata": {},
   "outputs": [
    {
     "data": {
      "text/plain": [
       "array([[     0,      0],\n",
       "       [400299, 100090]], dtype=int64)"
      ]
     },
     "execution_count": 14,
     "metadata": {},
     "output_type": "execute_result"
    },
    {
     "data": {
      "application/javascript": [
       "\n",
       "            setTimeout(function() {\n",
       "                var nbb_cell_id = 14;\n",
       "                var nbb_formatted_code = \"bla = model_monotonic.predict(dadv)\\nblu = [round(x) for x in bla]\\nconfusion_matrix(y_adversarial, blu)\";\n",
       "                var nbb_cells = Jupyter.notebook.get_cells();\n",
       "                for (var i = 0; i < nbb_cells.length; ++i) {\n",
       "                    if (nbb_cells[i].input_prompt_number == nbb_cell_id) {\n",
       "                        nbb_cells[i].set_text(nbb_formatted_code);\n",
       "                        break;\n",
       "                    }\n",
       "                }\n",
       "            }, 500);\n",
       "            "
      ],
      "text/plain": [
       "<IPython.core.display.Javascript object>"
      ]
     },
     "metadata": {},
     "output_type": "display_data"
    }
   ],
   "source": [
    "bla = model_monotonic.predict(dadv)\n",
    "blu = [round(x) for x in bla]\n",
    "confusion_matrix(y_adversarial, blu)"
   ]
  },
  {
   "cell_type": "code",
   "execution_count": 15,
   "metadata": {},
   "outputs": [
    {
     "data": {
      "text/plain": [
       "array([[     0,      0],\n",
       "       [494949,   5440]], dtype=int64)"
      ]
     },
     "execution_count": 15,
     "metadata": {},
     "output_type": "execute_result"
    },
    {
     "data": {
      "application/javascript": [
       "\n",
       "            setTimeout(function() {\n",
       "                var nbb_cell_id = 15;\n",
       "                var nbb_formatted_code = \"bla = model_no_constraints.predict(dadv)\\nblu = [round(x) for x in bla]\\nconfusion_matrix(y_adversarial, blu)\";\n",
       "                var nbb_cells = Jupyter.notebook.get_cells();\n",
       "                for (var i = 0; i < nbb_cells.length; ++i) {\n",
       "                    if (nbb_cells[i].input_prompt_number == nbb_cell_id) {\n",
       "                        nbb_cells[i].set_text(nbb_formatted_code);\n",
       "                        break;\n",
       "                    }\n",
       "                }\n",
       "            }, 500);\n",
       "            "
      ],
      "text/plain": [
       "<IPython.core.display.Javascript object>"
      ]
     },
     "metadata": {},
     "output_type": "display_data"
    }
   ],
   "source": [
    "bla = model_no_constraints.predict(dadv)\n",
    "blu = [round(x) for x in bla]\n",
    "confusion_matrix(y_adversarial, blu)"
   ]
  },
  {
   "cell_type": "code",
   "execution_count": null,
   "metadata": {},
   "outputs": [],
   "source": []
  }
 ],
 "metadata": {
  "kernelspec": {
   "display_name": "Python 3",
   "language": "python",
   "name": "python3"
  },
  "language_info": {
   "codemirror_mode": {
    "name": "ipython",
    "version": 3
   },
   "file_extension": ".py",
   "mimetype": "text/x-python",
   "name": "python",
   "nbconvert_exporter": "python",
   "pygments_lexer": "ipython3",
   "version": "3.6.7"
  }
 },
 "nbformat": 4,
 "nbformat_minor": 2
}
