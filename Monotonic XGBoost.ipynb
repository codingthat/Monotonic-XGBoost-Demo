{
 "cells": [
  {
   "cell_type": "code",
   "execution_count": 1,
   "metadata": {},
   "outputs": [
    {
     "data": {
      "application/javascript": [
       "\n",
       "            setTimeout(function() {\n",
       "                var nbb_cell_id = 1;\n",
       "                var nbb_formatted_code = \"%load_ext nb_black\";\n",
       "                var nbb_cells = Jupyter.notebook.get_cells();\n",
       "                for (var i = 0; i < nbb_cells.length; ++i) {\n",
       "                    if (nbb_cells[i].input_prompt_number == nbb_cell_id) {\n",
       "                        nbb_cells[i].set_text(nbb_formatted_code);\n",
       "                        break;\n",
       "                    }\n",
       "                }\n",
       "            }, 500);\n",
       "            "
      ],
      "text/plain": [
       "<IPython.core.display.Javascript object>"
      ]
     },
     "metadata": {},
     "output_type": "display_data"
    }
   ],
   "source": [
    "%load_ext nb_black"
   ]
  },
  {
   "cell_type": "code",
   "execution_count": 2,
   "metadata": {},
   "outputs": [
    {
     "data": {
      "application/javascript": [
       "\n",
       "            setTimeout(function() {\n",
       "                var nbb_cell_id = 2;\n",
       "                var nbb_formatted_code = \"import random\\nimport numpy\";\n",
       "                var nbb_cells = Jupyter.notebook.get_cells();\n",
       "                for (var i = 0; i < nbb_cells.length; ++i) {\n",
       "                    if (nbb_cells[i].input_prompt_number == nbb_cell_id) {\n",
       "                        nbb_cells[i].set_text(nbb_formatted_code);\n",
       "                        break;\n",
       "                    }\n",
       "                }\n",
       "            }, 500);\n",
       "            "
      ],
      "text/plain": [
       "<IPython.core.display.Javascript object>"
      ]
     },
     "metadata": {},
     "output_type": "display_data"
    }
   ],
   "source": [
    "import random\n",
    "import numpy"
   ]
  },
  {
   "cell_type": "code",
   "execution_count": 3,
   "metadata": {},
   "outputs": [
    {
     "data": {
      "application/javascript": [
       "\n",
       "            setTimeout(function() {\n",
       "                var nbb_cell_id = 3;\n",
       "                var nbb_formatted_code = \"def flip():\\n    return 1 if random.random() < 0.5 else 0\\n\\n\\ndef generate():\\n    return random.triangular(0, 1, 1)\\n\\n\\ndef prepare_for_XGBoost(X, y):\\n    return xgb.DMatrix(X, label=y)\\n\\n\\ndef predict_with_XGBoost(model, dX, y):\\n    temp = model.predict(dX)\\n    return [round(x) for x in temp]\\n\\n\\nfrom sklearn.metrics import confusion_matrix\\n\\n\\ndef predict_with_XGBoost_and_return_confusion_matrix(model, dX, y):\\n    temp = model.predict(dX)\\n    temp = [round(x) for x in temp]\\n    return confusion_matrix(y, temp)\";\n",
       "                var nbb_cells = Jupyter.notebook.get_cells();\n",
       "                for (var i = 0; i < nbb_cells.length; ++i) {\n",
       "                    if (nbb_cells[i].input_prompt_number == nbb_cell_id) {\n",
       "                        nbb_cells[i].set_text(nbb_formatted_code);\n",
       "                        break;\n",
       "                    }\n",
       "                }\n",
       "            }, 500);\n",
       "            "
      ],
      "text/plain": [
       "<IPython.core.display.Javascript object>"
      ]
     },
     "metadata": {},
     "output_type": "display_data"
    }
   ],
   "source": [
    "def flip():\n",
    "    return 1 if random.random() < 0.5 else 0\n",
    "\n",
    "\n",
    "def generate():\n",
    "    return random.triangular(0, 1, 1)\n",
    "\n",
    "\n",
    "def prepare_for_XGBoost(X, y):\n",
    "    return xgb.DMatrix(X, label=y)\n",
    "\n",
    "\n",
    "def predict_with_XGBoost(model, dX, y):\n",
    "    temp = model.predict(dX)\n",
    "    return [round(x) for x in temp]\n",
    "\n",
    "\n",
    "from sklearn.metrics import confusion_matrix\n",
    "\n",
    "\n",
    "def predict_with_XGBoost_and_return_confusion_matrix(model, dX, y):\n",
    "    temp = model.predict(dX)\n",
    "    temp = [round(x) for x in temp]\n",
    "    return confusion_matrix(y, temp)"
   ]
  },
  {
   "cell_type": "code",
   "execution_count": 4,
   "metadata": {
    "scrolled": true
   },
   "outputs": [
    {
     "data": {
      "text/plain": [
       "(array([ 455., 1486., 2479., 3546., 4479., 5543., 6595., 7514., 8359.,\n",
       "        9544.,    0.]),\n",
       " array([0. , 0.1, 0.2, 0.3, 0.4, 0.5, 0.6, 0.7, 0.8, 0.9, 1. , 1.1]),\n",
       " <a list of 11 Patch objects>)"
      ]
     },
     "execution_count": 4,
     "metadata": {},
     "output_type": "execute_result"
    },
    {
     "data": {
      "image/png": "[encoded data removed]",
      "text/plain": [
       "<Figure size 432x288 with 1 Axes>"
      ]
     },
     "metadata": {
      "needs_background": "light"
     },
     "output_type": "display_data"
    },
    {
     "data": {
      "application/javascript": [
       "\n",
       "            setTimeout(function() {\n",
       "                var nbb_cell_id = 4;\n",
       "                var nbb_formatted_code = \"import matplotlib.pyplot as plt\\n\\n%matplotlib inline\\nbins = [0.1 * i for i in range(12)]\\nplt.hist([random.triangular(0, 1, 1) for i in range(50000)], bins)\";\n",
       "                var nbb_cells = Jupyter.notebook.get_cells();\n",
       "                for (var i = 0; i < nbb_cells.length; ++i) {\n",
       "                    if (nbb_cells[i].input_prompt_number == nbb_cell_id) {\n",
       "                        nbb_cells[i].set_text(nbb_formatted_code);\n",
       "                        break;\n",
       "                    }\n",
       "                }\n",
       "            }, 500);\n",
       "            "
      ],
      "text/plain": [
       "<IPython.core.display.Javascript object>"
      ]
     },
     "metadata": {},
     "output_type": "display_data"
    }
   ],
   "source": [
    "import matplotlib.pyplot as plt\n",
    "\n",
    "%matplotlib inline\n",
    "bins = [0.1 * i for i in range(12)]\n",
    "plt.hist([random.triangular(0, 1, 1) for i in range(50000)], bins)"
   ]
  },
  {
   "cell_type": "code",
   "execution_count": 5,
   "metadata": {},
   "outputs": [
    {
     "data": {
      "application/javascript": [
       "\n",
       "            setTimeout(function() {\n",
       "                var nbb_cell_id = 5;\n",
       "                var nbb_formatted_code = \"# m = 1000000\\nm = 10000\\nbenign_features = 5\\nmalicious_features = 5\\nn = benign_features + malicious_features\\nbenign = 0\\nmalicious = 1\\nX = numpy.zeros((m, n))\\ny = numpy.zeros((m))\\nfor i in range(m):\\n    vec = numpy.zeros((n))\\n    y[i] = flip()\\n    if y[i] == benign:\\n        for j in range(benign_features):\\n            vec[j] = generate()\\n        for j in range(malicious_features):\\n            vec[j + benign_features] = 1 - generate()\\n    else:\\n        for j in range(benign_features):\\n            vec[j] = 1 - generate()\\n        for j in range(malicious_features):\\n            vec[j + benign_features] = generate()\\n    X[i, :] = vec\";\n",
       "                var nbb_cells = Jupyter.notebook.get_cells();\n",
       "                for (var i = 0; i < nbb_cells.length; ++i) {\n",
       "                    if (nbb_cells[i].input_prompt_number == nbb_cell_id) {\n",
       "                        nbb_cells[i].set_text(nbb_formatted_code);\n",
       "                        break;\n",
       "                    }\n",
       "                }\n",
       "            }, 500);\n",
       "            "
      ],
      "text/plain": [
       "<IPython.core.display.Javascript object>"
      ]
     },
     "metadata": {},
     "output_type": "display_data"
    }
   ],
   "source": [
    "# m = 1000000\n",
    "m = 10000\n",
    "benign_features = 5\n",
    "malicious_features = 5\n",
    "n = benign_features + malicious_features\n",
    "benign = 0\n",
    "malicious = 1\n",
    "X = numpy.zeros((m, n))\n",
    "y = numpy.zeros((m))\n",
    "for i in range(m):\n",
    "    vec = numpy.zeros((n))\n",
    "    y[i] = flip()\n",
    "    if y[i] == benign:\n",
    "        for j in range(benign_features):\n",
    "            vec[j] = generate()\n",
    "        for j in range(malicious_features):\n",
    "            vec[j + benign_features] = 1 - generate()\n",
    "    else:\n",
    "        for j in range(benign_features):\n",
    "            vec[j] = 1 - generate()\n",
    "        for j in range(malicious_features):\n",
    "            vec[j + benign_features] = generate()\n",
    "    X[i, :] = vec"
   ]
  },
  {
   "cell_type": "code",
   "execution_count": 6,
   "metadata": {},
   "outputs": [
    {
     "name": "stdout",
     "output_type": "stream",
     "text": [
      "[[5.61461852e-01 2.76991789e-01 9.24858589e-04 2.43625088e-01\n",
      "  5.67018766e-01 9.28469660e-01 9.97591257e-01 3.28952400e-01\n",
      "  6.05040053e-01 6.93348768e-01]\n",
      " [4.50636705e-01 7.45103877e-01 2.81403751e-01 1.62180281e-01\n",
      "  2.25516880e-01 5.98855436e-01 1.51865599e-01 2.90491480e-02\n",
      "  3.97418923e-02 8.20131220e-02]\n",
      " [1.80468576e-01 1.77564283e-01 3.33366310e-03 3.29115047e-01\n",
      "  5.66780794e-01 5.63564722e-01 9.46708554e-01 4.49821288e-01\n",
      "  9.69483314e-01 7.91461712e-01]\n",
      " [4.41344671e-02 3.00705154e-01 3.91129874e-02 1.71168166e-02\n",
      "  3.22896751e-01 7.19984055e-01 9.74147384e-01 6.78770686e-01\n",
      "  7.99997396e-01 4.87811167e-01]\n",
      " [6.61709824e-02 1.90439819e-01 5.39713196e-02 7.87636748e-01\n",
      "  1.70595366e-01 9.45041839e-01 9.58256660e-01 7.03288934e-01\n",
      "  3.28839386e-01 6.94745862e-01]]\n",
      "[1. 0. 1. 1. 1.]\n"
     ]
    },
    {
     "data": {
      "application/javascript": [
       "\n",
       "            setTimeout(function() {\n",
       "                var nbb_cell_id = 6;\n",
       "                var nbb_formatted_code = \"print(X[:5])\\nprint(y[:5])\";\n",
       "                var nbb_cells = Jupyter.notebook.get_cells();\n",
       "                for (var i = 0; i < nbb_cells.length; ++i) {\n",
       "                    if (nbb_cells[i].input_prompt_number == nbb_cell_id) {\n",
       "                        nbb_cells[i].set_text(nbb_formatted_code);\n",
       "                        break;\n",
       "                    }\n",
       "                }\n",
       "            }, 500);\n",
       "            "
      ],
      "text/plain": [
       "<IPython.core.display.Javascript object>"
      ]
     },
     "metadata": {},
     "output_type": "display_data"
    }
   ],
   "source": [
    "print(X[:5])\n",
    "print(y[:5])"
   ]
  },
  {
   "cell_type": "code",
   "execution_count": 7,
   "metadata": {},
   "outputs": [
    {
     "data": {
      "application/javascript": [
       "\n",
       "            setTimeout(function() {\n",
       "                var nbb_cell_id = 7;\n",
       "                var nbb_formatted_code = \"from sklearn.model_selection import train_test_split\\n\\nX_train, X_test, y_train, y_test = train_test_split(\\n    X, y, test_size=0.2, random_state=42\\n)\";\n",
       "                var nbb_cells = Jupyter.notebook.get_cells();\n",
       "                for (var i = 0; i < nbb_cells.length; ++i) {\n",
       "                    if (nbb_cells[i].input_prompt_number == nbb_cell_id) {\n",
       "                        nbb_cells[i].set_text(nbb_formatted_code);\n",
       "                        break;\n",
       "                    }\n",
       "                }\n",
       "            }, 500);\n",
       "            "
      ],
      "text/plain": [
       "<IPython.core.display.Javascript object>"
      ]
     },
     "metadata": {},
     "output_type": "display_data"
    }
   ],
   "source": [
    "from sklearn.model_selection import train_test_split\n",
    "\n",
    "X_train, X_test, y_train, y_test = train_test_split(\n",
    "    X, y, test_size=0.2, random_state=42\n",
    ")"
   ]
  },
  {
   "cell_type": "code",
   "execution_count": 8,
   "metadata": {},
   "outputs": [
    {
     "data": {
      "application/javascript": [
       "\n",
       "            setTimeout(function() {\n",
       "                var nbb_cell_id = 8;\n",
       "                var nbb_formatted_code = \"import xgboost as xgb\\n\\ndtrain = prepare_for_XGBoost(X_train, y_train)\\ndtest = prepare_for_XGBoost(X_test, y_test)\\ndall = prepare_for_XGBoost(X, y)\";\n",
       "                var nbb_cells = Jupyter.notebook.get_cells();\n",
       "                for (var i = 0; i < nbb_cells.length; ++i) {\n",
       "                    if (nbb_cells[i].input_prompt_number == nbb_cell_id) {\n",
       "                        nbb_cells[i].set_text(nbb_formatted_code);\n",
       "                        break;\n",
       "                    }\n",
       "                }\n",
       "            }, 500);\n",
       "            "
      ],
      "text/plain": [
       "<IPython.core.display.Javascript object>"
      ]
     },
     "metadata": {},
     "output_type": "display_data"
    }
   ],
   "source": [
    "import xgboost as xgb\n",
    "\n",
    "dtrain = prepare_for_XGBoost(X_train, y_train)\n",
    "dtest = prepare_for_XGBoost(X_test, y_test)\n",
    "dall = prepare_for_XGBoost(X, y)"
   ]
  },
  {
   "cell_type": "code",
   "execution_count": 9,
   "metadata": {},
   "outputs": [
    {
     "name": "stdout",
     "output_type": "stream",
     "text": [
      "Unconstrained model's training confusion matrix:\n",
      "[[3888   25]\n",
      " [  21 4066]]\n",
      "\n",
      "Unconstrained model's testing confusion matrix:\n",
      "[[981  29]\n",
      " [ 30 960]]\n"
     ]
    },
    {
     "data": {
      "application/javascript": [
       "\n",
       "            setTimeout(function() {\n",
       "                var nbb_cell_id = 9;\n",
       "                var nbb_formatted_code = \"params = {\\n    \\\"n_jobs\\\": -1,\\n}\\nmodel_no_constraints = xgb.train(params=params, dtrain=dtrain)\\nprint(\\\"Unconstrained model's training confusion matrix:\\\")\\nprint(\\n    predict_with_XGBoost_and_return_confusion_matrix(\\n        model_no_constraints, dtrain, y_train\\n    )\\n)\\nprint()\\nprint(\\\"Unconstrained model's testing confusion matrix:\\\")\\nprint(\\n    predict_with_XGBoost_and_return_confusion_matrix(\\n        model_no_constraints, dtest, y_test\\n    )\\n)\\nmodel_no_constraints = xgb.train(params=params, dtrain=dall)\";\n",
       "                var nbb_cells = Jupyter.notebook.get_cells();\n",
       "                for (var i = 0; i < nbb_cells.length; ++i) {\n",
       "                    if (nbb_cells[i].input_prompt_number == nbb_cell_id) {\n",
       "                        nbb_cells[i].set_text(nbb_formatted_code);\n",
       "                        break;\n",
       "                    }\n",
       "                }\n",
       "            }, 500);\n",
       "            "
      ],
      "text/plain": [
       "<IPython.core.display.Javascript object>"
      ]
     },
     "metadata": {},
     "output_type": "display_data"
    }
   ],
   "source": [
    "params = {\n",
    "    \"n_jobs\": -1,\n",
    "}\n",
    "model_no_constraints = xgb.train(params=params, dtrain=dtrain)\n",
    "print(\"Unconstrained model's training confusion matrix:\")\n",
    "print(\n",
    "    predict_with_XGBoost_and_return_confusion_matrix(\n",
    "        model_no_constraints, dtrain, y_train\n",
    "    )\n",
    ")\n",
    "print()\n",
    "print(\"Unconstrained model's testing confusion matrix:\")\n",
    "print(\n",
    "    predict_with_XGBoost_and_return_confusion_matrix(\n",
    "        model_no_constraints, dtest, y_test\n",
    "    )\n",
    ")\n",
    "model_no_constraints = xgb.train(params=params, dtrain=dall)"
   ]
  },
  {
   "cell_type": "code",
   "execution_count": 16,
   "metadata": {},
   "outputs": [
    {
     "name": "stdout",
     "output_type": "stream",
     "text": [
      "Monotone constraints enforced are:\n",
      "(0,0,0,0,0,1,1,1,1,1)\n",
      "Monotonic model's training confusion matrix:\n",
      "[[3877   36]\n",
      " [  39 4048]]\n",
      "\n",
      "Monotonic model's testing confusion matrix:\n",
      "[[993  17]\n",
      " [ 22 968]]\n"
     ]
    },
    {
     "data": {
      "application/javascript": [
       "\n",
       "            setTimeout(function() {\n",
       "                var nbb_cell_id = 16;\n",
       "                var nbb_formatted_code = \"params_constrained = params.copy()\\nmonotone_constraints = (\\n    \\\"(\\\"\\n    + \\\",\\\".join([str(0) for m in range(benign_features)])\\n    + \\\",\\\"\\n    + \\\",\\\".join([str(1) for m in range(malicious_features)])\\n    + \\\")\\\"\\n)\\nprint(\\\"Monotone constraints enforced are:\\\")\\nprint(monotone_constraints)\\nparams_constrained[\\\"monotone_constraints\\\"] = monotone_constraints\\nmodel_monotonic = xgb.train(params=params_constrained, dtrain=dtrain)\\nprint(\\\"Monotonic model's training confusion matrix:\\\")\\nprint(\\n    predict_with_XGBoost_and_return_confusion_matrix(model_monotonic, dtrain, y_train)\\n)\\nprint()\\nprint(\\\"Monotonic model's testing confusion matrix:\\\")\\nprint(predict_with_XGBoost_and_return_confusion_matrix(model_monotonic, dtest, y_test))\\nmodel_monotonic = xgb.train(params=params_constrained, dtrain=dall)\";\n",
       "                var nbb_cells = Jupyter.notebook.get_cells();\n",
       "                for (var i = 0; i < nbb_cells.length; ++i) {\n",
       "                    if (nbb_cells[i].input_prompt_number == nbb_cell_id) {\n",
       "                        nbb_cells[i].set_text(nbb_formatted_code);\n",
       "                        break;\n",
       "                    }\n",
       "                }\n",
       "            }, 500);\n",
       "            "
      ],
      "text/plain": [
       "<IPython.core.display.Javascript object>"
      ]
     },
     "metadata": {},
     "output_type": "display_data"
    }
   ],
   "source": [
    "params_constrained = params.copy()\n",
    "monotone_constraints = (\n",
    "    \"(\"\n",
    "    + \",\".join([str(0) for m in range(benign_features)])\n",
    "    + \",\"\n",
    "    + \",\".join([str(1) for m in range(malicious_features)])\n",
    "    + \")\"\n",
    ")\n",
    "print(\"Monotone constraints enforced are:\")\n",
    "print(monotone_constraints)\n",
    "params_constrained[\"monotone_constraints\"] = monotone_constraints\n",
    "model_monotonic = xgb.train(params=params_constrained, dtrain=dtrain)\n",
    "print(\"Monotonic model's training confusion matrix:\")\n",
    "print(\n",
    "    predict_with_XGBoost_and_return_confusion_matrix(model_monotonic, dtrain, y_train)\n",
    ")\n",
    "print()\n",
    "print(\"Monotonic model's testing confusion matrix:\")\n",
    "print(predict_with_XGBoost_and_return_confusion_matrix(model_monotonic, dtest, y_test))\n",
    "model_monotonic = xgb.train(params=params_constrained, dtrain=dall)"
   ]
  },
  {
   "cell_type": "code",
   "execution_count": 11,
   "metadata": {},
   "outputs": [
    {
     "name": "stdout",
     "output_type": "stream",
     "text": [
      "Unconstrained model's confusion matrix on malicious dataset:\n",
      "[[   0    0]\n",
      " [  32 5045]]\n",
      "Monotonic model's confusion matrix on malicious dataset:\n",
      "[[   0    0]\n",
      " [  53 5024]]\n"
     ]
    },
    {
     "data": {
      "application/javascript": [
       "\n",
       "            setTimeout(function() {\n",
       "                var nbb_cell_id = 11;\n",
       "                var nbb_formatted_code = \"X_malicious = X[y == malicious]\\ny_malicious = len(X_malicious) * [malicious]\\ndX_malicious = prepare_for_XGBoost(X_malicious, y_malicious)\\nprint(\\\"Unconstrained model's confusion matrix on malicious dataset:\\\")\\nprint(\\n    predict_with_XGBoost_and_return_confusion_matrix(\\n        model_no_constraints, dX_malicious, y_malicious\\n    )\\n)\\nprint(\\\"Monotonic model's confusion matrix on malicious dataset:\\\")\\nprint(\\n    predict_with_XGBoost_and_return_confusion_matrix(\\n        model_monotonic, dX_malicious, y_malicious\\n    )\\n)\";\n",
       "                var nbb_cells = Jupyter.notebook.get_cells();\n",
       "                for (var i = 0; i < nbb_cells.length; ++i) {\n",
       "                    if (nbb_cells[i].input_prompt_number == nbb_cell_id) {\n",
       "                        nbb_cells[i].set_text(nbb_formatted_code);\n",
       "                        break;\n",
       "                    }\n",
       "                }\n",
       "            }, 500);\n",
       "            "
      ],
      "text/plain": [
       "<IPython.core.display.Javascript object>"
      ]
     },
     "metadata": {},
     "output_type": "display_data"
    }
   ],
   "source": [
    "X_malicious = X[y == malicious]\n",
    "y_malicious = len(X_malicious) * [malicious]\n",
    "dX_malicious = prepare_for_XGBoost(X_malicious, y_malicious)\n",
    "print(\"Unconstrained model's confusion matrix on malicious dataset:\")\n",
    "print(\n",
    "    predict_with_XGBoost_and_return_confusion_matrix(\n",
    "        model_no_constraints, dX_malicious, y_malicious\n",
    "    )\n",
    ")\n",
    "print(\"Monotonic model's confusion matrix on malicious dataset:\")\n",
    "print(\n",
    "    predict_with_XGBoost_and_return_confusion_matrix(\n",
    "        model_monotonic, dX_malicious, y_malicious\n",
    "    )\n",
    ")"
   ]
  },
  {
   "cell_type": "code",
   "execution_count": 12,
   "metadata": {},
   "outputs": [
    {
     "data": {
      "application/javascript": [
       "\n",
       "            setTimeout(function() {\n",
       "                var nbb_cell_id = 12;\n",
       "                var nbb_formatted_code = \"X_adversarial = X_malicious\\ny_adversarial = len(X_adversarial) * [malicious]\\nfor i in range(len(X_adversarial)):\\n    vec = X_adversarial[i, :]\\n    for j in range(benign_features):\\n        vec[j] = 1\\n    X_adversarial[i, :] = vec\";\n",
       "                var nbb_cells = Jupyter.notebook.get_cells();\n",
       "                for (var i = 0; i < nbb_cells.length; ++i) {\n",
       "                    if (nbb_cells[i].input_prompt_number == nbb_cell_id) {\n",
       "                        nbb_cells[i].set_text(nbb_formatted_code);\n",
       "                        break;\n",
       "                    }\n",
       "                }\n",
       "            }, 500);\n",
       "            "
      ],
      "text/plain": [
       "<IPython.core.display.Javascript object>"
      ]
     },
     "metadata": {},
     "output_type": "display_data"
    }
   ],
   "source": [
    "X_adversarial = X_malicious\n",
    "y_adversarial = len(X_adversarial) * [malicious]\n",
    "for i in range(len(X_adversarial)):\n",
    "    vec = X_adversarial[i, :]\n",
    "    for j in range(benign_features):\n",
    "        vec[j] = 1\n",
    "    X_adversarial[i, :] = vec"
   ]
  },
  {
   "cell_type": "code",
   "execution_count": 13,
   "metadata": {},
   "outputs": [
    {
     "data": {
      "application/javascript": [
       "\n",
       "            setTimeout(function() {\n",
       "                var nbb_cell_id = 13;\n",
       "                var nbb_formatted_code = \"data = X_adversarial\\nlabel = y_adversarial\\ndadv = xgb.DMatrix(data, label=label)\";\n",
       "                var nbb_cells = Jupyter.notebook.get_cells();\n",
       "                for (var i = 0; i < nbb_cells.length; ++i) {\n",
       "                    if (nbb_cells[i].input_prompt_number == nbb_cell_id) {\n",
       "                        nbb_cells[i].set_text(nbb_formatted_code);\n",
       "                        break;\n",
       "                    }\n",
       "                }\n",
       "            }, 500);\n",
       "            "
      ],
      "text/plain": [
       "<IPython.core.display.Javascript object>"
      ]
     },
     "metadata": {},
     "output_type": "display_data"
    }
   ],
   "source": [
    "data = X_adversarial\n",
    "label = y_adversarial\n",
    "dadv = xgb.DMatrix(data, label=label)"
   ]
  },
  {
   "cell_type": "code",
   "execution_count": 14,
   "metadata": {},
   "outputs": [
    {
     "name": "stdout",
     "output_type": "stream",
     "text": [
      "Unconstrained model's confusion matrix on adversarial dataset:\n"
     ]
    },
    {
     "data": {
      "text/plain": [
       "array([[   0,    0],\n",
       "       [5066,   11]], dtype=int64)"
      ]
     },
     "execution_count": 14,
     "metadata": {},
     "output_type": "execute_result"
    },
    {
     "data": {
      "application/javascript": [
       "\n",
       "            setTimeout(function() {\n",
       "                var nbb_cell_id = 14;\n",
       "                var nbb_formatted_code = \"print(\\\"Unconstrained model's confusion matrix on adversarial dataset:\\\")\\npredict_with_XGBoost_and_return_confusion_matrix(\\n    model_no_constraints, dadv, y_adversarial\\n)\";\n",
       "                var nbb_cells = Jupyter.notebook.get_cells();\n",
       "                for (var i = 0; i < nbb_cells.length; ++i) {\n",
       "                    if (nbb_cells[i].input_prompt_number == nbb_cell_id) {\n",
       "                        nbb_cells[i].set_text(nbb_formatted_code);\n",
       "                        break;\n",
       "                    }\n",
       "                }\n",
       "            }, 500);\n",
       "            "
      ],
      "text/plain": [
       "<IPython.core.display.Javascript object>"
      ]
     },
     "metadata": {},
     "output_type": "display_data"
    }
   ],
   "source": [
    "print(\"Unconstrained model's confusion matrix on adversarial dataset:\")\n",
    "predict_with_XGBoost_and_return_confusion_matrix(\n",
    "    model_no_constraints, dadv, y_adversarial\n",
    ")"
   ]
  },
  {
   "cell_type": "code",
   "execution_count": 15,
   "metadata": {},
   "outputs": [
    {
     "name": "stdout",
     "output_type": "stream",
     "text": [
      "Monotonic model's confusion matrix on adversarial dataset:\n"
     ]
    },
    {
     "data": {
      "text/plain": [
       "array([[   0,    0],\n",
       "       [4222,  855]], dtype=int64)"
      ]
     },
     "execution_count": 15,
     "metadata": {},
     "output_type": "execute_result"
    },
    {
     "data": {
      "application/javascript": [
       "\n",
       "            setTimeout(function() {\n",
       "                var nbb_cell_id = 15;\n",
       "                var nbb_formatted_code = \"print(\\\"Monotonic model's confusion matrix on adversarial dataset:\\\")\\npredict_with_XGBoost_and_return_confusion_matrix(model_monotonic, dadv, y_adversarial)\";\n",
       "                var nbb_cells = Jupyter.notebook.get_cells();\n",
       "                for (var i = 0; i < nbb_cells.length; ++i) {\n",
       "                    if (nbb_cells[i].input_prompt_number == nbb_cell_id) {\n",
       "                        nbb_cells[i].set_text(nbb_formatted_code);\n",
       "                        break;\n",
       "                    }\n",
       "                }\n",
       "            }, 500);\n",
       "            "
      ],
      "text/plain": [
       "<IPython.core.display.Javascript object>"
      ]
     },
     "metadata": {},
     "output_type": "display_data"
    }
   ],
   "source": [
    "print(\"Monotonic model's confusion matrix on adversarial dataset:\")\n",
    "predict_with_XGBoost_and_return_confusion_matrix(model_monotonic, dadv, y_adversarial)"
   ]
  },
  {
   "cell_type": "code",
   "execution_count": null,
   "metadata": {},
   "outputs": [],
   "source": []
  }
 ],
 "metadata": {
  "kernelspec": {
   "display_name": "Python 3",
   "language": "python",
   "name": "python3"
  },
  "language_info": {
   "codemirror_mode": {
    "name": "ipython",
    "version": 3
   },
   "file_extension": ".py",
   "mimetype": "text/x-python",
   "name": "python",
   "nbconvert_exporter": "python",
   "pygments_lexer": "ipython3",
   "version": "3.6.7"
  }
 },
 "nbformat": 4,
 "nbformat_minor": 2
}
